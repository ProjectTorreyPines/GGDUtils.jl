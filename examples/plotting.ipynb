{
 "cells": [
  {
   "cell_type": "markdown",
   "metadata": {},
   "source": [
    "# Plotting examples using GGDUtils\n",
    " \n",
    " For running this notebook, you need to install package IJulia in your home environment (that is messy, but that is the only way I know right now). So in your terminal:\n",
    " ```\n",
    " % julia\n",
    " julia > ]\n",
    " (@v1.9 pkg) pkg> add IJulia\n",
    " ```\n",
    "\n",
    " After this, Julia kernel would appear in your jupyter notebooks as an option. This also works for julia notebooks directly opened on VSCode. Select the Julia kernel to run this notebook."
   ]
  },
  {
   "cell_type": "code",
   "execution_count": null,
   "metadata": {},
   "outputs": [],
   "source": [
    "using Pkg\n",
    "Pkg.activate(\"./\")\n",
    "Pkg.add(url=\"git@github.com:ProjectTorreyPines/OMAS.jl.git\")\n",
    "Pkg.add(url=\"git@github.com:ProjectTorreyPines/SOLPS2IMAS.jl.git\", rev=\"dev\")\n",
    "Pkg.add(path=\"../\")\n",
    "Pkg.add(PackageSpec(name=\"GR\", version=\"0.72.9\"))\n",
    "Pkg.pin(\"GR\")\n",
    "Pkg.add(\"Plots\")\n",
    "Pkg.add(\"LaTeXStrings\")"
   ]
  },
  {
   "cell_type": "code",
   "execution_count": null,
   "metadata": {},
   "outputs": [],
   "source": [
    "using SOLPS2IMAS\n",
    "using GGDUtils\n",
    "using Plots\n",
    "using LaTeXStrings"
   ]
  },
  {
   "cell_type": "code",
   "execution_count": null,
   "metadata": {},
   "outputs": [],
   "source": [
    "b2gmtry = \"../samples/b2fgmtry\"\n",
    "b2output = \"../samples/b2time_red.nc\"\n",
    "gsdesc = \"../samples/gridspacedesc.yml\"\n",
    "b2mn = \"../samples/b2mn.dat\"\n",
    "dd = solps2imas(b2gmtry, b2output, gsdesc, b2mn)\n",
    "grid_ggd = dd.edge_profiles.grid_ggd[1]\n",
    "space = grid_ggd.space[1]\n",
    "dd.edge_profiles.ggd[1].electrons.density[5].grid_subset_index = 5  # This is a bug in SOLPS2IMAS to be fixed"
   ]
  },
  {
   "cell_type": "markdown",
   "metadata": {},
   "source": [
    "## Plotting grid and subsets"
   ]
  },
  {
   "cell_type": "code",
   "execution_count": null,
   "metadata": {},
   "outputs": [],
   "source": [
    "# Choose backend\n",
    "gr()           # Fast and can save pdf\n",
    "# plotlyjs()   # Use for interactive plot, can only save png\n",
    "\n",
    "plot(space) # Simply plot the grid described in space, all common arguments to plot can be given here\n",
    "\n",
    "# You can overlay any subset by giving a second argument\n",
    "# Labels \n",
    "plot!(space, SOLPS2IMAS.get_grid_subset_with_index(grid_ggd, 6), markercolor=:chocolate1)\n",
    "plot!(space, SOLPS2IMAS.get_grid_subset_with_index(grid_ggd, 7), linecolor=:red, linewidth=2)\n",
    "plot!(space, SOLPS2IMAS.get_grid_subset_with_index(grid_ggd, 8), linecolor=:darkred, linewidth=2)\n",
    "plot!(space, SOLPS2IMAS.get_grid_subset_with_index(grid_ggd, 9), linecolor=:limegreen, linewidth=2)\n",
    "plot!(space, SOLPS2IMAS.get_grid_subset_with_index(grid_ggd, 10), linecolor=:darkgreen, linewidth=2)\n",
    "plot!(space, SOLPS2IMAS.get_grid_subset_with_index(grid_ggd, 11), linecolor=:cyan, linewidth=2)\n",
    "# plot!(space, SOLPS2IMAS.get_grid_subset_with_index(grid_ggd, 12), linecolor=:teal, linewidth=1)\n",
    "plot!(space, SOLPS2IMAS.get_grid_subset_with_index(grid_ggd, 13), linecolor=:royalblue1, linewidth=2)\n",
    "plot!(space, SOLPS2IMAS.get_grid_subset_with_index(grid_ggd, 14), linecolor=:navyblue, linewidth=2)\n",
    "plot!(space, SOLPS2IMAS.get_grid_subset_with_index(grid_ggd, 15), linecolor=:fuchsia, linewidth=2, linestyle=:dash)\n",
    "plot!(space, SOLPS2IMAS.get_grid_subset_with_index(grid_ggd, 16), linecolor=:purple4, linewidth=2, linestyle=:dash)\n",
    "plot!(space, SOLPS2IMAS.get_grid_subset_with_index(grid_ggd, 101), markershape=:rect, markercolor=:royalblue1)\n",
    "# plot!(space, SOLPS2IMAS.get_grid_subset_with_index(grid_ggd, 102), markershape=:rect, markercolor=:maroon)\n",
    "plot!(space, SOLPS2IMAS.get_grid_subset_with_index(grid_ggd, 103), markershape=:diamond, markercolor=:fuchsia)\n",
    "plot!(space, SOLPS2IMAS.get_grid_subset_with_index(grid_ggd, 104), markershape=:diamond, markercolor=:purple4)\n",
    "\n",
    "# Legend is supressed unless asked for specifically\n",
    "plot!(legend=true)\n",
    "# Default labels are subset.identifier.name but can be changed by providing a label argument"
   ]
  },
  {
   "cell_type": "markdown",
   "metadata": {},
   "source": [
    "## Plotting 2D quantities as heatmaps"
   ]
  },
  {
   "cell_type": "code",
   "execution_count": null,
   "metadata": {},
   "outputs": [],
   "source": [
    "# Choose backend\n",
    "gr()           # Fast and can save pdf\n",
    "# plotlyjs()   # Use for interactive plot, can only save png\n",
    "\n",
    "plot(dd.edge_profiles.grid_ggd, dd.edge_profiles.ggd[1].electrons.density[5], colorbar_title=\"Electrons density / \" * L\"m^{-3}\")"
   ]
  },
  {
   "cell_type": "markdown",
   "metadata": {},
   "source": [
    "### You can overlap any grid on top of a quantity"
   ]
  },
  {
   "cell_type": "code",
   "execution_count": null,
   "metadata": {},
   "outputs": [],
   "source": [
    "# Choose backend\n",
    "gr()           # Fast and can save pdf\n",
    "# plotlyjs()   # Use for interactive plot, can only save png\n",
    "\n",
    "plot(dd.edge_profiles.grid_ggd, dd.edge_profiles.ggd[1].electrons.density[5]) # Note default label in colorbar\n",
    "plot!(space, SOLPS2IMAS.get_grid_subset_with_index(grid_ggd, 16), linecolor=:red, linewidth=2, linestyle=:solid, label=\"Separatix\", legend=true)"
   ]
  },
  {
   "cell_type": "code",
   "execution_count": null,
   "metadata": {},
   "outputs": [],
   "source": []
  }
 ],
 "metadata": {
  "kernelspec": {
   "display_name": "Julia 1.9.2",
   "language": "julia",
   "name": "julia-1.9"
  },
  "language_info": {
   "file_extension": ".jl",
   "mimetype": "application/julia",
   "name": "julia",
   "version": "1.9.2"
  },
  "orig_nbformat": 4
 },
 "nbformat": 4,
 "nbformat_minor": 2
}
